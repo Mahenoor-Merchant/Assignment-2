{
 "cells": [
  {
   "cell_type": "code",
   "execution_count": 26,
   "id": "d9ad0cbf-5b30-4046-ae47-fe7ec9505b9c",
   "metadata": {},
   "outputs": [
    {
     "name": "stdin",
     "output_type": "stream",
     "text": [
      "ENTER YOUR PERCENTAGE: 85\n"
     ]
    },
    {
     "name": "stdout",
     "output_type": "stream",
     "text": [
      "GRADE B\n"
     ]
    }
   ],
   "source": [
    "marks=int(input(\"ENTER YOUR PERCENTAGE:\"))\n",
    "if marks>90:\n",
    "    print(\"GRADE A\")\n",
    "elif marks>80 and marks<=90:\n",
    "    print(\"GRADE B\")\n",
    "elif marks >=60 and marks <=80:\n",
    "    print(\"GRADE C\")\n",
    "else:\n",
    "    print(\"GRADE D\")"
   ]
  },
  {
   "cell_type": "code",
   "execution_count": 25,
   "id": "de9f3f5e-8738-41c9-9267-063dfbc18263",
   "metadata": {},
   "outputs": [
    {
     "name": "stdin",
     "output_type": "stream",
     "text": [
      "ENTER COST OF BIKE: 80000\n"
     ]
    },
    {
     "name": "stdout",
     "output_type": "stream",
     "text": [
      "10% road tax is to be paid.\n"
     ]
    }
   ],
   "source": [
    "cost_price=int(input(\"ENTER COST OF BIKE:\"))\n",
    "if cost_price>100000:\n",
    "    print(\"15% road tax is to be paid.\")\n",
    "elif cost_price >50000 and cost_price <=100000:\n",
    "    print(\"10% road tax is to be paid.\")\n",
    "else:\n",
    "    print(\"5% road tax is to be paid.\")"
   ]
  },
  {
   "cell_type": "code",
   "execution_count": 11,
   "id": "671130e7-721c-4474-83fd-2be0952b5101",
   "metadata": {},
   "outputs": [
    {
     "name": "stdin",
     "output_type": "stream",
     "text": [
      "ENTER CITY NAME. jaipur\n"
     ]
    },
    {
     "name": "stdout",
     "output_type": "stream",
     "text": [
      "MONUMENT:JALMAHAL\n"
     ]
    }
   ],
   "source": [
    "city=(input(\"ENTER CITY NAME.\"))\n",
    "if city==\"delhi\":\n",
    "    print(\"MONUMENT:RED FORT\")\n",
    "elif city==\"agra\":\n",
    "    print(\"MONUMENT:TAJ MAHAL\")\n",
    "elif city==\"jaipur\":\n",
    "    print(\"MONUMENT:JALMAHAL\")\n",
    "    "
   ]
  },
  {
   "cell_type": "code",
   "execution_count": 4,
   "id": "65a7ff38-82ee-4ba6-b165-562edf9a8d1d",
   "metadata": {},
   "outputs": [
    {
     "name": "stdin",
     "output_type": "stream",
     "text": [
      "ENTER YOUR NUMBER 300\n"
     ]
    },
    {
     "name": "stdout",
     "output_type": "stream",
     "text": [
      "100.0\n",
      "33.333333333333336\n",
      "11.111111111111112\n"
     ]
    }
   ],
   "source": [
    "n=int(input(\"ENTER YOUR NUMBER\"))\n",
    "while n > 0:\n",
    "    n=n/3\n",
    "    if n <=10:\n",
    "        break\n",
    "    print(n)"
   ]
  },
  {
   "cell_type": "code",
   "execution_count": 27,
   "id": "8508ec3e-07ad-4781-8716-e3b0e6f078b3",
   "metadata": {},
   "outputs": [
    {
     "name": "stdout",
     "output_type": "stream",
     "text": [
      "In Python, while loop is used to run a block code until a certain condition is met.A while loop evaluates the condition.If the condition evaluates to True, the code inside the loop is executed.it can be used for summation and factorial\n"
     ]
    },
    {
     "name": "stdin",
     "output_type": "stream",
     "text": [
      "enter your input: 10\n"
     ]
    },
    {
     "data": {
      "text/plain": [
       "55"
      ]
     },
     "execution_count": 27,
     "metadata": {},
     "output_type": "execute_result"
    }
   ],
   "source": [
    "#when and why to use while loop(with examples).\n",
    "\n",
    "print(\"In Python, while loop is used to run a block code until a certain condition is met.\"\n",
    "     \"A while loop evaluates the condition.If the condition evaluates to True, the code inside the loop is executed.\"\n",
    "     \"it can be used for summation and factorial\")\n",
    "\n",
    "#example of summation:\n",
    "\n",
    "n=int(input(\"enter your input:\"))\n",
    "start_point=0\n",
    "counter=1\n",
    "while counter<=n:\n",
    "    start_point=start_point+counter\n",
    "    counter=counter+1\n",
    "start_point\n"
   ]
  },
  {
   "cell_type": "code",
   "execution_count": 1,
   "id": "fbe0c1be-ff14-41bb-a638-bd3486bb844a",
   "metadata": {},
   "outputs": [],
   "source": [
    "#use nested while loop to create 3 different patterns "
   ]
  },
  {
   "cell_type": "code",
   "execution_count": 5,
   "id": "8305fda1-63d8-4908-825f-960890dd8f2d",
   "metadata": {},
   "outputs": [
    {
     "name": "stdout",
     "output_type": "stream",
     "text": [
      "\n",
      "+\n",
      "++\n",
      "+++\n",
      "++++\n",
      "+++++\n"
     ]
    }
   ],
   "source": [
    "i,j=0,0\n",
    "\n",
    "while i<=5:\n",
    "    while j<=5:\n",
    "        print('+'*j)\n",
    "        j+=1\n",
    "    i+=1"
   ]
  },
  {
   "cell_type": "code",
   "execution_count": 4,
   "id": "61e75da6-5a52-4b3a-be77-1f05fe813501",
   "metadata": {},
   "outputs": [
    {
     "name": "stdout",
     "output_type": "stream",
     "text": [
      "& & & &\n",
      "& & & &\n",
      "& & & &\n",
      "& & & &\n",
      "& & & &\n",
      "& & & &\n"
     ]
    }
   ],
   "source": [
    "i,j=0,0\n",
    "\n",
    "while i<=5:\n",
    "    while j<=5:\n",
    "        print('& & & &')\n",
    "        j+=1\n",
    "        i+=1"
   ]
  },
  {
   "cell_type": "code",
   "execution_count": 6,
   "id": "e0754e54-a8ab-4fb1-be99-b5e650ba96ee",
   "metadata": {},
   "outputs": [
    {
     "name": "stdout",
     "output_type": "stream",
     "text": [
      "++++++++++\n",
      "+++++++++\n",
      "++++++++\n",
      "+++++++\n",
      "++++++\n",
      "+++++\n",
      "++++\n",
      "+++\n",
      "++\n",
      "+\n",
      "\n"
     ]
    }
   ],
   "source": [
    "i,j=10,10\n",
    "\n",
    "while i>=0:\n",
    "    while j>=0:\n",
    "        print('+'*j)\n",
    "        j-=1\n",
    "    i-=1"
   ]
  },
  {
   "cell_type": "code",
   "execution_count": 23,
   "id": "7ddc9c1d-4f20-413a-8a6f-2cb7867a16e4",
   "metadata": {},
   "outputs": [
    {
     "name": "stdout",
     "output_type": "stream",
     "text": [
      "10\n",
      "9\n",
      "8\n",
      "7\n",
      "6\n",
      "5\n",
      "4\n",
      "3\n",
      "2\n",
      "1\n"
     ]
    }
   ],
   "source": [
    "#reverse a for loop to display numbers fom 10 to 1\n",
    "l1=[1,2,3,4,5,6,7,8,9,10]\n",
    "\n",
    "for i in range(len(l1)-1,-1,-1):\n",
    "    print(l1[i])"
   ]
  },
  {
   "cell_type": "code",
   "execution_count": 24,
   "id": "a9641bc0-8196-474d-921a-5d1318ba464c",
   "metadata": {},
   "outputs": [
    {
     "name": "stdout",
     "output_type": "stream",
     "text": [
      "10\n",
      "9\n",
      "8\n",
      "7\n",
      "6\n",
      "5\n",
      "4\n",
      "3\n",
      "2\n",
      "1\n"
     ]
    }
   ],
   "source": [
    "#reverse a while loop to display numbers fom 10 to 1\n",
    "a=10\n",
    "while a >=1 :\n",
    "    print (a)\n",
    "    a=a-1"
   ]
  },
  {
   "cell_type": "code",
   "execution_count": null,
   "id": "aae27c21-32cb-43bc-bb7e-512d0c9e4585",
   "metadata": {},
   "outputs": [],
   "source": []
  }
 ],
 "metadata": {
  "kernelspec": {
   "display_name": "Python 3 (ipykernel)",
   "language": "python",
   "name": "python3"
  },
  "language_info": {
   "codemirror_mode": {
    "name": "ipython",
    "version": 3
   },
   "file_extension": ".py",
   "mimetype": "text/x-python",
   "name": "python",
   "nbconvert_exporter": "python",
   "pygments_lexer": "ipython3",
   "version": "3.10.8"
  }
 },
 "nbformat": 4,
 "nbformat_minor": 5
}
